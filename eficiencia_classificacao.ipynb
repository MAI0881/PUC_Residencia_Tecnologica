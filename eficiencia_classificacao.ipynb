{
 "cells": [
  {
   "cell_type": "markdown",
   "id": "41df3b4a",
   "metadata": {},
   "source": [
    "# Bibliotecas, módulos e Pré Processamento"
   ]
  },
  {
   "cell_type": "code",
   "execution_count": 32,
   "id": "7c2a0684",
   "metadata": {},
   "outputs": [
    {
     "data": {
      "text/plain": [
       "ph                 491\n",
       "Hardness             0\n",
       "Solids               0\n",
       "Chloramines          0\n",
       "Sulfate            781\n",
       "Conductivity         0\n",
       "Organic_carbon       0\n",
       "Trihalomethanes    162\n",
       "Turbidity            0\n",
       "Potability           0\n",
       "dtype: int64"
      ]
     },
     "execution_count": 32,
     "metadata": {},
     "output_type": "execute_result"
    }
   ],
   "source": [
    "import pandas as pd\n",
    "from sklearn.ensemble import RandomForestClassifier\n",
    "import numpy as np\n",
    "import matplotlib.pyplot as plt\n",
    "from sklearn.model_selection import train_test_split\n",
    "from sklearn.metrics import classification_report\n",
    "from sklearn.decomposition import PCA\n",
    "from sklearn.feature_selection import RFE\n",
    "from sklearn.preprocessing import MinMaxScaler\n",
    "from sklearn.model_selection import cross_val_score\n",
    "from sklearn.metrics import accuracy_score\n",
    "from sklearn.metrics import log_loss\n",
    "from sklearn.metrics import confusion_matrix\n",
    "import seaborn as sns\n",
    "\n",
    "#importação do dataset\n",
    "df_water = pd.read_csv(r'https://raw.githubusercontent.com/MaiRodrigues/datasets/main/water_potability.csv', sep=',')\n",
    "\n",
    "#soma de inválidos\n",
    "df_water.isnull().sum()"
   ]
  },
  {
   "cell_type": "code",
   "execution_count": 33,
   "id": "60a57ec6",
   "metadata": {},
   "outputs": [
    {
     "data": {
      "text/html": [
       "<div>\n",
       "<style scoped>\n",
       "    .dataframe tbody tr th:only-of-type {\n",
       "        vertical-align: middle;\n",
       "    }\n",
       "\n",
       "    .dataframe tbody tr th {\n",
       "        vertical-align: top;\n",
       "    }\n",
       "\n",
       "    .dataframe thead th {\n",
       "        text-align: right;\n",
       "    }\n",
       "</style>\n",
       "<table border=\"1\" class=\"dataframe\">\n",
       "  <thead>\n",
       "    <tr style=\"text-align: right;\">\n",
       "      <th></th>\n",
       "      <th>ph</th>\n",
       "      <th>Hardness</th>\n",
       "      <th>Solids</th>\n",
       "      <th>Chloramines</th>\n",
       "      <th>Conductivity</th>\n",
       "      <th>Organic_carbon</th>\n",
       "      <th>Trihalomethanes</th>\n",
       "      <th>Turbidity</th>\n",
       "    </tr>\n",
       "  </thead>\n",
       "  <tbody>\n",
       "    <tr>\n",
       "      <th>0</th>\n",
       "      <td>0.265434</td>\n",
       "      <td>0.571139</td>\n",
       "      <td>0.336096</td>\n",
       "      <td>0.543891</td>\n",
       "      <td>0.669439</td>\n",
       "      <td>0.313402</td>\n",
       "      <td>0.699753</td>\n",
       "      <td>0.286091</td>\n",
       "    </tr>\n",
       "    <tr>\n",
       "      <th>1</th>\n",
       "      <td>0.265434</td>\n",
       "      <td>0.297400</td>\n",
       "      <td>0.300611</td>\n",
       "      <td>0.491839</td>\n",
       "      <td>0.719411</td>\n",
       "      <td>0.497319</td>\n",
       "      <td>0.450999</td>\n",
       "      <td>0.576793</td>\n",
       "    </tr>\n",
       "    <tr>\n",
       "      <th>2</th>\n",
       "      <td>0.578509</td>\n",
       "      <td>0.641311</td>\n",
       "      <td>0.321619</td>\n",
       "      <td>0.698543</td>\n",
       "      <td>0.414652</td>\n",
       "      <td>0.562017</td>\n",
       "      <td>0.532866</td>\n",
       "      <td>0.303637</td>\n",
       "    </tr>\n",
       "    <tr>\n",
       "      <th>3</th>\n",
       "      <td>0.594055</td>\n",
       "      <td>0.605536</td>\n",
       "      <td>0.356244</td>\n",
       "      <td>0.603314</td>\n",
       "      <td>0.317880</td>\n",
       "      <td>0.622089</td>\n",
       "      <td>0.808065</td>\n",
       "      <td>0.601015</td>\n",
       "    </tr>\n",
       "    <tr>\n",
       "      <th>4</th>\n",
       "      <td>0.649445</td>\n",
       "      <td>0.484851</td>\n",
       "      <td>0.289922</td>\n",
       "      <td>0.484900</td>\n",
       "      <td>0.379337</td>\n",
       "      <td>0.358555</td>\n",
       "      <td>0.253606</td>\n",
       "      <td>0.496327</td>\n",
       "    </tr>\n",
       "    <tr>\n",
       "      <th>...</th>\n",
       "      <td>...</td>\n",
       "      <td>...</td>\n",
       "      <td>...</td>\n",
       "      <td>...</td>\n",
       "      <td>...</td>\n",
       "      <td>...</td>\n",
       "      <td>...</td>\n",
       "      <td>...</td>\n",
       "    </tr>\n",
       "    <tr>\n",
       "      <th>3271</th>\n",
       "      <td>0.333436</td>\n",
       "      <td>0.530482</td>\n",
       "      <td>0.775947</td>\n",
       "      <td>0.533436</td>\n",
       "      <td>0.603192</td>\n",
       "      <td>0.448062</td>\n",
       "      <td>0.535037</td>\n",
       "      <td>0.564534</td>\n",
       "    </tr>\n",
       "    <tr>\n",
       "      <th>3272</th>\n",
       "      <td>0.557775</td>\n",
       "      <td>0.530016</td>\n",
       "      <td>0.279263</td>\n",
       "      <td>0.603473</td>\n",
       "      <td>0.368912</td>\n",
       "      <td>0.678284</td>\n",
       "      <td>0.560655</td>\n",
       "      <td>0.254915</td>\n",
       "    </tr>\n",
       "    <tr>\n",
       "      <th>3273</th>\n",
       "      <td>0.672822</td>\n",
       "      <td>0.465486</td>\n",
       "      <td>0.539101</td>\n",
       "      <td>0.547807</td>\n",
       "      <td>0.438152</td>\n",
       "      <td>0.338662</td>\n",
       "      <td>0.560655</td>\n",
       "      <td>0.349570</td>\n",
       "    </tr>\n",
       "    <tr>\n",
       "      <th>3274</th>\n",
       "      <td>0.366197</td>\n",
       "      <td>0.664407</td>\n",
       "      <td>0.191490</td>\n",
       "      <td>0.465860</td>\n",
       "      <td>0.387157</td>\n",
       "      <td>0.343638</td>\n",
       "      <td>0.622659</td>\n",
       "      <td>0.616120</td>\n",
       "    </tr>\n",
       "    <tr>\n",
       "      <th>3275</th>\n",
       "      <td>0.562477</td>\n",
       "      <td>0.535635</td>\n",
       "      <td>0.280484</td>\n",
       "      <td>0.560259</td>\n",
       "      <td>0.255266</td>\n",
       "      <td>0.534114</td>\n",
       "      <td>0.632478</td>\n",
       "      <td>0.162441</td>\n",
       "    </tr>\n",
       "  </tbody>\n",
       "</table>\n",
       "<p>3276 rows × 8 columns</p>\n",
       "</div>"
      ],
      "text/plain": [
       "            ph  Hardness    Solids  Chloramines  Conductivity  Organic_carbon  \\\n",
       "0     0.265434  0.571139  0.336096     0.543891      0.669439        0.313402   \n",
       "1     0.265434  0.297400  0.300611     0.491839      0.719411        0.497319   \n",
       "2     0.578509  0.641311  0.321619     0.698543      0.414652        0.562017   \n",
       "3     0.594055  0.605536  0.356244     0.603314      0.317880        0.622089   \n",
       "4     0.649445  0.484851  0.289922     0.484900      0.379337        0.358555   \n",
       "...        ...       ...       ...          ...           ...             ...   \n",
       "3271  0.333436  0.530482  0.775947     0.533436      0.603192        0.448062   \n",
       "3272  0.557775  0.530016  0.279263     0.603473      0.368912        0.678284   \n",
       "3273  0.672822  0.465486  0.539101     0.547807      0.438152        0.338662   \n",
       "3274  0.366197  0.664407  0.191490     0.465860      0.387157        0.343638   \n",
       "3275  0.562477  0.535635  0.280484     0.560259      0.255266        0.534114   \n",
       "\n",
       "      Trihalomethanes  Turbidity  \n",
       "0            0.699753   0.286091  \n",
       "1            0.450999   0.576793  \n",
       "2            0.532866   0.303637  \n",
       "3            0.808065   0.601015  \n",
       "4            0.253606   0.496327  \n",
       "...               ...        ...  \n",
       "3271         0.535037   0.564534  \n",
       "3272         0.560655   0.254915  \n",
       "3273         0.560655   0.349570  \n",
       "3274         0.622659   0.616120  \n",
       "3275         0.632478   0.162441  \n",
       "\n",
       "[3276 rows x 8 columns]"
      ]
     },
     "execution_count": 33,
     "metadata": {},
     "output_type": "execute_result"
    }
   ],
   "source": [
    "# correção valores inválidos\n",
    "\n",
    "invalidos = (df_water.isnull().sum() / len(df_water) * 100)\n",
    "excluir = invalidos[invalidos > 20].index.tolist()\n",
    "preencher = invalidos[invalidos <= 20].index.tolist()\n",
    "\n",
    "df_water = df_water.drop(columns=excluir)\n",
    "\n",
    "for col in preencher:\n",
    "    df_water[col].fillna(method='bfill', inplace=True)\n",
    "    \n",
    "    \n",
    "# divisão preditoras e dependente\n",
    "    \n",
    "X = df_water.drop(['Potability'], axis=1)\n",
    "y = df_water['Potability']\n",
    "\n",
    "# normalização\n",
    "\n",
    "X = (X - X.min()) / (X.max() - X.min())\n",
    "X"
   ]
  },
  {
   "cell_type": "markdown",
   "id": "431993ca",
   "metadata": {},
   "source": [
    "# Classificação com Dataset Original"
   ]
  },
  {
   "cell_type": "code",
   "execution_count": 34,
   "id": "ab25fecb",
   "metadata": {},
   "outputs": [
    {
     "name": "stdout",
     "output_type": "stream",
     "text": [
      "              precision    recall  f1-score   support\n",
      "\n",
      "           0       0.66      0.81      0.72       617\n",
      "           1       0.47      0.29      0.36       366\n",
      "\n",
      "    accuracy                           0.61       983\n",
      "   macro avg       0.56      0.55      0.54       983\n",
      "weighted avg       0.59      0.61      0.59       983\n",
      "\n"
     ]
    }
   ],
   "source": [
    "# divisão treino e teste\n",
    "X_train, X_test, y_train, y_test = train_test_split(X,y, train_size=0.7, random_state=42)\n",
    "\n",
    "# aplicando o classificador\n",
    "\n",
    "random_forest = RandomForestClassifier(n_estimators = 10, random_state=0)\n",
    "random_forest.fit(X_train, y_train)\n",
    "y_pred  = random_forest.predict(X_test)\n",
    "\n",
    "# verificando o report\n",
    "print(classification_report(y_test, y_pred))"
   ]
  },
  {
   "cell_type": "code",
   "execution_count": 5,
   "id": "de5baaa9",
   "metadata": {},
   "outputs": [
    {
     "data": {
      "image/png": "[encoded data removed]",
      "text/plain": [
       "<Figure size 640x480 with 2 Axes>"
      ]
     },
     "metadata": {},
     "output_type": "display_data"
    }
   ],
   "source": [
    "# matriz de confusão\n",
    "\n",
    "cm = confusion_matrix(y_test, y_pred)\n",
    "fig, ax = plt.subplots()\n",
    "im = ax.imshow(cm, interpolation='nearest', cmap=plt.cm.Blues)\n",
    "ax.figure.colorbar(im, ax=ax)\n",
    "ax.set(xticks=np.arange(cm.shape[1]),\n",
    "       yticks=np.arange(cm.shape[0]),\n",
    "       xticklabels=['Classe 0', 'Classe 1'],\n",
    "       yticklabels=['Classe 0', 'Classe 1'],\n",
    "       title='Matriz de confusão',\n",
    "       ylabel='Real',\n",
    "       xlabel='Previsto')\n",
    "\n",
    "thresh = cm.max() / 2.\n",
    "for i in range(cm.shape[0]):\n",
    "    for j in range(cm.shape[1]):\n",
    "        ax.text(j, i, format(cm[i, j], 'd'),\n",
    "                ha=\"center\", va=\"center\",\n",
    "                color=\"white\" if cm[i, j] > thresh else \"black\")\n",
    "fig.tight_layout()\n",
    "plt.show()"
   ]
  },
  {
   "cell_type": "markdown",
   "id": "d64fca68",
   "metadata": {},
   "source": [
    "## Conclusão\n",
    "\n",
    "A feature 1 aparenta não conter informações discriminativas suficientes para distinguir as classes. É possível notar no Recall e na matriz de confusão que a capacidade do classificador de encontrar todas as amostras positivas na classe 1 foi muito inferior comparado com a classe 0 (29%). Isso reflete diretamente na nossa acurácia nesse primeiro exemplo.\n",
    "\n",
    "OBS: imaginei que isso poderia ser por conta da diferença nas proporções das classes mas mesmo aplicando a técnica SMOTE o resultado continuou o mesmo."
   ]
  },
  {
   "cell_type": "markdown",
   "id": "755f885d",
   "metadata": {},
   "source": [
    "# Feature Selection"
   ]
  },
  {
   "cell_type": "code",
   "execution_count": 35,
   "id": "b91ca012",
   "metadata": {},
   "outputs": [
    {
     "name": "stdout",
     "output_type": "stream",
     "text": [
      "Features selecionadas:\n",
      "Feature 1\n",
      "Feature 2\n",
      "Feature 4\n",
      "\n",
      "Ranking das features:\n",
      "Feature 1: 1\n",
      "Feature 2: 1\n",
      "Feature 3: 2\n",
      "Feature 4: 1\n",
      "Feature 5: 4\n",
      "Feature 6: 3\n",
      "Feature 7: 5\n",
      "Feature 8: 6\n",
      "              precision    recall  f1-score   support\n",
      "\n",
      "           0       0.64      0.77      0.70       617\n",
      "           1       0.41      0.28      0.33       366\n",
      "\n",
      "    accuracy                           0.58       983\n",
      "   macro avg       0.53      0.52      0.51       983\n",
      "weighted avg       0.56      0.58      0.56       983\n",
      "\n"
     ]
    }
   ],
   "source": [
    "#aplicando o rfe\n",
    "rfe = RFE(random_forest, n_features_to_select = 3)\n",
    "X_selected = rfe.fit_transform(X,y)\n",
    "\n",
    "selected_features = rfe.support_\n",
    "feature_ranking = rfe.ranking_\n",
    "\n",
    "print(\"Features selecionadas:\")\n",
    "for feature, selected in enumerate(selected_features):\n",
    "    if selected:\n",
    "        print(f\"Feature {feature+1}\")\n",
    "\n",
    "print(\"\\nRanking das features:\")\n",
    "for feature, rank in enumerate(feature_ranking):\n",
    "    print(f\"Feature {feature+1}: {rank}\")\n",
    "\n",
    "# divisão treino e teste\n",
    "X_train_rfe, X_test_rfe, y_train_rfe, y_test_rfe = train_test_split(X_selected,y, train_size=0.7, random_state=42)\n",
    "\n",
    "# aplicando o classificador\n",
    "random_forest.fit(X_train_rfe, y_train_rfe)\n",
    "y_pred_rfe  = random_forest.predict(X_test_rfe)\n",
    "\n",
    "# verificando o report\n",
    "print(classification_report(y_test_rfe, y_pred_rfe))"
   ]
  },
  {
   "cell_type": "code",
   "execution_count": 37,
   "id": "35ea0c16",
   "metadata": {},
   "outputs": [
    {
     "name": "stdout",
     "output_type": "stream",
     "text": [
      "              precision    recall  f1-score   support\n",
      "\n",
      "           0       0.66      0.82      0.73       617\n",
      "           1       0.49      0.30      0.37       366\n",
      "\n",
      "    accuracy                           0.62       983\n",
      "   macro avg       0.57      0.56      0.55       983\n",
      "weighted avg       0.60      0.62      0.60       983\n",
      "\n"
     ]
    }
   ],
   "source": [
    "# ajustando o RFE com a quantidade ideal de features\n",
    "\n",
    "rfe2 = RFE(random_forest, n_features_to_select = 6)\n",
    "X_selected2 = rfe2.fit_transform(X,y)\n",
    "\n",
    "X2_train_rfe, X2_test_rfe, y2_train_rfe, y2_test_rfe = train_test_split(X_selected2,y, train_size=0.7, random_state=42)\n",
    "\n",
    "random_forest_rfe2 = RandomForestClassifier(n_estimators = 10, random_state=0)\n",
    "random_forest_rfe2.fit(X2_train_rfe, y2_train_rfe)\n",
    "y_pred_rfe2  = random_forest_rfe2.predict(X2_test_rfe)\n",
    "\n",
    "\n",
    "print(classification_report(y2_test_rfe, y_pred_rfe2))"
   ]
  },
  {
   "cell_type": "markdown",
   "id": "0f31085e",
   "metadata": {},
   "source": [
    "## Conclusão\n",
    "\n",
    "* O processo de seleção de features em alguns casos se torna desnecessário em termos de melhora no desempenho do algoritmo e quando a quantidade incorreta de features é selecionada, se torna prejudicial.\n",
    "Utilizando 75% das features, eu obtive praticamente o mesmo resultado do Dataset completo: 62% de acurácia"
   ]
  },
  {
   "cell_type": "markdown",
   "id": "1dc56aa3",
   "metadata": {},
   "source": [
    "* Um dos motivos é que o Random Forest pode lidar bem com características não informativas, já que tende a dar menos peso a essas características durante o processo de divisão. (Além do ponto já abordado anteriormente que tudo indica que a qualidade dos dados de entrada da variável 1 representa um problema na distinção das classes)"
   ]
  },
  {
   "cell_type": "markdown",
   "id": "a71638bc",
   "metadata": {},
   "source": [
    "# Component Principal Analysis (PCA)"
   ]
  },
  {
   "cell_type": "code",
   "execution_count": 8,
   "id": "563fd6da",
   "metadata": {},
   "outputs": [
    {
     "name": "stdout",
     "output_type": "stream",
     "text": [
      "Formato dos dados Originais: (3276, 8)\n",
      "Formato dos dados após a seleção de features: (3276, 3)\n"
     ]
    }
   ],
   "source": [
    "pca = PCA(n_components = 3)\n",
    "P = pca.fit_transform(X)\n",
    "\n",
    "print(\"Formato dos dados Originais:\", X.shape)\n",
    "print(\"Formato dos dados após a seleção de features:\", P.shape)"
   ]
  },
  {
   "cell_type": "code",
   "execution_count": 9,
   "id": "6482da00",
   "metadata": {},
   "outputs": [
    {
     "name": "stdout",
     "output_type": "stream",
     "text": [
      "              precision    recall  f1-score   support\n",
      "\n",
      "           0       0.63      0.74      0.68       617\n",
      "           1       0.39      0.28      0.33       366\n",
      "\n",
      "    accuracy                           0.57       983\n",
      "   macro avg       0.51      0.51      0.50       983\n",
      "weighted avg       0.54      0.57      0.55       983\n",
      "\n"
     ]
    }
   ],
   "source": [
    "X_pca_train, X_pca_test, y_pca_train, y_pca_test = train_test_split(P, y, train_size=0.7, random_state=42)\n",
    "\n",
    "random_forest.fit(X_pca_train, y_pca_train)\n",
    "y_pred_pca = random_forest.predict(X_pca_test)\n",
    "\n",
    "print(classification_report(y_pca_test, y_pred_pca))"
   ]
  },
  {
   "cell_type": "code",
   "execution_count": 10,
   "id": "b5521a14",
   "metadata": {},
   "outputs": [
    {
     "name": "stdout",
     "output_type": "stream",
     "text": [
      "Entropia Cruzada PCA: 15.510137724920199\n",
      "Entropia Cruzada Dataset original: 13.933457057847932\n"
     ]
    }
   ],
   "source": [
    "cross_entropy = log_loss(y_pca_test, y_pred_pca)\n",
    "cross_entropy2 = log_loss(y_test, y_pred)\n",
    "\n",
    "\n",
    "print(\"Entropia Cruzada PCA:\", cross_entropy)\n",
    "print(\"Entropia Cruzada Dataset original:\", cross_entropy2)"
   ]
  },
  {
   "cell_type": "markdown",
   "id": "84d501f1",
   "metadata": {},
   "source": [
    "## Conclusão\n",
    "\n",
    "* O PCA quando aplicado de maneira incorreta pode reduzir a capacidade preditiva do modelo, então, em muitos casos onde a dimensionalidade dos dados não representa um problema se torna mais benéfico manter as features originais.\n",
    " * Selecionando 6 componentes principais eu obtive o mesmo resultado do Dataset original: 61% de acurácia"
   ]
  },
  {
   "cell_type": "markdown",
   "id": "88f806fe",
   "metadata": {},
   "source": [
    "# Validação Cruzada "
   ]
  },
  {
   "cell_type": "code",
   "execution_count": 11,
   "id": "a9ff2d2a",
   "metadata": {},
   "outputs": [
    {
     "data": {
      "image/png": "[encoded data removed]",
      "text/plain": [
       "<Figure size 800x600 with 1 Axes>"
      ]
     },
     "metadata": {},
     "output_type": "display_data"
    }
   ],
   "source": [
    "estimators = range(10, 101, 10)\n",
    "\n",
    "scores = []\n",
    "\n",
    "for s in estimators:\n",
    "    random_forest_cv = RandomForestClassifier(n_estimators = s, random_state=0)\n",
    "    scores_random_forest_cv = cross_val_score(random_forest_cv, X_pca_train, y_pca_train, cv = 10, scoring = 'accuracy' )\n",
    "    scores.append(scores_random_forest_cv.mean())\n",
    "\n",
    "plt.figure(figsize=(8, 6))\n",
    "plt.plot(estimators, scores, linewidth=2.0, marker='o', markersize=8, markeredgecolor='blue', markerfacecolor='red', label='Acurácia')\n",
    "plt.xlim(0, max(estimators) + 10)\n",
    "plt.ylim(min(scores) - 0.01, max(scores) + 0.01)\n",
    "plt.title('Acurácia da Random Forest em função do número de estimadores')\n",
    "plt.xlabel('Número de Estimadores na Random Forest')\n",
    "plt.ylabel('Taxa de Acurácia')\n",
    "plt.grid(linestyle=\"dashed\")\n",
    "plt.legend()\n",
    "plt.show()"
   ]
  },
  {
   "cell_type": "code",
   "execution_count": 12,
   "id": "04f7739e",
   "metadata": {},
   "outputs": [
    {
     "name": "stdout",
     "output_type": "stream",
     "text": [
      "Árvores: 10  e Acurácia com k-fold: 0.55\n",
      "Árvores: 20  e Acurácia com k-fold: 0.54\n",
      "Árvores: 30  e Acurácia com k-fold: 0.55\n",
      "Árvores: 40  e Acurácia com k-fold: 0.55\n",
      "Árvores: 50  e Acurácia com k-fold: 0.55\n",
      "Árvores: 60  e Acurácia com k-fold: 0.55\n",
      "Árvores: 70  e Acurácia com k-fold: 0.55\n",
      "Árvores: 80  e Acurácia com k-fold: 0.55\n",
      "Árvores: 90  e Acurácia com k-fold: 0.55\n",
      "Árvores: 100  e Acurácia com k-fold: 0.55\n"
     ]
    }
   ],
   "source": [
    "for i in range(len(scores)):\n",
    "    print(\"Árvores:\", estimators[i],  \" e Acurácia com k-fold:\", round(scores[i],2))"
   ]
  },
  {
   "cell_type": "markdown",
   "id": "ac5dd784",
   "metadata": {},
   "source": [
    "## Conclusão\n",
    "\n",
    "* Aumentar a quantidade de árvores em uma Random Forest nem sempre trará um melhor resultado já que existe um ponto de diminuição dos retornos, após o qual adicionar mais árvores pode não melhorar significativamente o desempenho do modelo. No nosso caso, a partir de 10 árvores já não vale a pena investir custo computacional."
   ]
  }
 ],
 "metadata": {
  "kernelspec": {
   "display_name": "Python 3 (ipykernel)",
   "language": "python",
   "name": "python3"
  },
  "language_info": {
   "codemirror_mode": {
    "name": "ipython",
    "version": 3
   },
   "file_extension": ".py",
   "mimetype": "text/x-python",
   "name": "python",
   "nbconvert_exporter": "python",
   "pygments_lexer": "ipython3",
   "version": "3.11.5"
  }
 },
 "nbformat": 4,
 "nbformat_minor": 5
}
